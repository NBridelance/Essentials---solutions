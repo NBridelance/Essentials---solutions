{
 "cells": [
  {
   "cell_type": "markdown",
   "metadata": {},
   "source": [
    "![](https://miro.medium.com/max/500/1*Ie1xfpPGkGKn8W3im8lr7g.png)\n",
    "\n",
    "# ETL to Big Query \n",
    "\n",
    "Now that we played with SQL and Google Cloud Storage, let's transfer our data to Big Query. To do so, follow the course tutorial step by step. You will need to transfer: \n",
    "\n",
    "* **World Happiness Record**\n",
    "    * 🚨 You will need to name the dataset **exactly** `World_happiness_record`\n",
    "    * 🚨 Your table should be **exactly named**: `2016`\n",
    "\n",
    "* **IMDB** and all its files \n",
    "    * 🚨 You will need to name the dataset **exactly** `IMDB`\n",
    "    * 🚨 You should have a table **exactly named**: `directors`\n",
    "    * 🚨 You should have a table **exactly named**: `movies`\n",
    "    * 🚨 You should have a table **exactly named**: `main_actors`\n",
    "    * 🚨 You should have a table **exactly named**: `second_actors`\n",
    "    * 🚨 You should have a table **exactly named**: `third_actors`\n",
    "\n",
    "* **NYSE** and all its files \n",
    "    * 🚨 You will need to name the dataset **exactly** `NYSE`\n",
    "    * 🚨 You should have a table **exactly named**: `companies`\n",
    "    * 🚨 You should have a table **exactly named**: `indicators`\n",
    "    * 🚨 You should have a table **exactly named**: `nyse`\n",
    "\n",
    "* **European Soccer** and all its files. \n",
    "    * 🚨 You will need to name the dataset **exactly** `european_soccer`\n",
    "    * 🚨 You should have a table **exactly named**: `Country`\n",
    "    * 🚨 You should have a table **exactly named**: `League`\n",
    "    * 🚨 You should have a table **exactly named**: `Match`\n",
    "    * 🚨 You should have a table **exactly named**: `Player`\n",
    "    * 🚨 You should have a table **exactly named**: `Player_attributes`\n",
    "    * 🚨 You should have a table **exactly named**: `Team`\n",
    "    * 🚨 You should have a table **exactly named**: `Team_attributes`\n",
    "\n",
    "\n",
    "## Bonus ✨\n",
    "\n",
    "If you still have time, try to import the database you created in the exercise `Chauffeurs Database` 💪"
   ]
  }
 ],
 "metadata": {
  "kernelspec": {
   "display_name": "Python 3",
   "language": "python",
   "name": "python3"
  },
  "language_info": {
   "codemirror_mode": {
    "name": "ipython",
    "version": 3
   },
   "file_extension": ".py",
   "mimetype": "text/x-python",
   "name": "python",
   "nbconvert_exporter": "python",
   "pygments_lexer": "ipython3",
   "version": "3.9.7"
  }
 },
 "nbformat": 4,
 "nbformat_minor": 4
}
