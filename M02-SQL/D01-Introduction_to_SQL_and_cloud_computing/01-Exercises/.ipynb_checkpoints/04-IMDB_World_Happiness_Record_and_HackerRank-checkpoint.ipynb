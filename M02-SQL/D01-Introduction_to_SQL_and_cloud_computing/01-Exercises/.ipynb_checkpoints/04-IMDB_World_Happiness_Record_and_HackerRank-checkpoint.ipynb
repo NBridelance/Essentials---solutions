{
 "cells": [
  {
   "cell_type": "markdown",
   "metadata": {},
   "source": [
    "![](https://essentials-assets.s3.eu-west-3.amazonaws.com/M02-SQL/Introduction_to_SQL_and_cloud_computing/1200px-IMDB_Logo_2016.svg.png)\n",
    "\n",
    "# IMDB, World Happiness Record & HackerRank\n",
    "\n",
    "For this exercise, we will work on the *IMDB* and *World Happiness Record* databases.\n",
    "\n",
    "1. What is the highest budget of all US films?\n",
    "\n",
    "2. Which actors have \"John\" in their name?\n",
    "\n",
    "3. What is the movie with the most Facebook likes?\n",
    "\n",
    "4. What are the 15 best movies according to IMDB?\n",
    "\n",
    "5. Are there any of these 15 movies outside of the US?\n",
    "\n",
    "6. What is the top 10 best films of the 1990s according to IMDB?\n",
    "\n",
    "\n",
    "**Let's change the database now and take World Happiness Record Database:**  \n",
    "\n",
    "7. What are the 5 happiest countries in the world in 2016?\n",
    "\n",
    "8. What are the 5 most unhappy countries in the world in 2016?\n",
    "\n",
    "9. Is the country with the highest life expectancy the happiest?\n",
    "\n",
    "\n",
    "## Let's raise the bar a little bit\n",
    "\n",
    "[HackerRank](http://hackerrank.com) is an extremely popular platform to improve your coding skills. Some recruiters even use it to test candidates 🤝. It is therefore useful to spend some time on it.\n",
    "\n",
    "Create an account and practice the following exercises (NB: Don't forget to use the MySQL code editor before writing your queries) :\n",
    "\n",
    "*   [Weather Observation Station 3](https://www.hackerrank.com/challenges/weather-observation-station-3/problem)\n",
    "*   [Weather Observation Station 4](https://www.hackerrank.com/challenges/weather-observation-station-4/problem?h_r=next-challenge&h_v=zen) (For this query, checkout document on [COUNT()](https://www.w3schools.com/sql/sql_count_avg_sum.asp))\n",
    "*   [Weather Observation Station 6](https://www.hackerrank.com/challenges/weather-observation-station-6/problem?h_r=next-challenge&h_v=zen&h_r=next-challenge&h_v=zen&h_r=next-challenge&h_v=zen)\n",
    "*   [Weather Observation Station 8](https://www.hackerrank.com/challenges/weather-observation-station-8/problem) 👋 checkout [WHERE IN](https://www.dofactory.com/sql/where-in) for help\n",
    "*   [Weather Observation Station 11](https://www.hackerrank.com/challenges/weather-observation-station-11/problem?h_r=next-challenge&h_v=zen&h_r=next-challenge&h_v=zen)"
   ]
  }
 ],
 "metadata": {
  "interpreter": {
   "hash": "3ae45a8f3b170b4b38b3bb4ab964fe355fac09e5396e1d7f0c9d72afffa1b71e"
  },
  "kernelspec": {
   "display_name": "Python 3.7.6 64-bit ('base': conda)",
   "name": "python3"
  },
  "language_info": {
   "name": "python",
   "version": ""
  }
 },
 "nbformat": 4,
 "nbformat_minor": 4
}