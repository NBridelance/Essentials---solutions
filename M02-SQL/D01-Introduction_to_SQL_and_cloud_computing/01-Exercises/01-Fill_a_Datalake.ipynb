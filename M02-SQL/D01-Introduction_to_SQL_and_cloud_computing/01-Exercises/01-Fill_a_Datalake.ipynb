{
 "cells": [
  {
   "cell_type": "markdown",
   "metadata": {},
   "source": [
    "<p align=\"center\">\n",
    "    <img src=\"https://essentials-assets.s3.eu-west-3.amazonaws.com/M02-SQL/Introduction_to_SQL_and_cloud_computing/DataLake.png\" height=\"250px\" />\n",
    "</p>\n",
    "\n",
    "# Fill a Data Lake \n",
    "\n",
    "Now let's build your own data lake using Google Cloud Storage. To do so, you will need to:\n",
    "\n",
    "* Download the data in the `resources` section of this course. \n",
    "* Upload them onto your Google Cloud Storage \n",
    "\n",
    "👋 You will need to **unzip** the `.zip` files and upload them as folder in Google Cloud Storage. "
   ]
  }
 ],
 "metadata": {
  "kernelspec": {
   "display_name": "Python 3",
   "language": "python",
   "name": "python3"
  },
  "language_info": {
   "codemirror_mode": {
    "name": "ipython",
    "version": 3
   },
   "file_extension": ".py",
   "mimetype": "text/x-python",
   "name": "python",
   "nbconvert_exporter": "python",
   "pygments_lexer": "ipython3",
   "version": "3.9.7"
  }
 },
 "nbformat": 4,
 "nbformat_minor": 4
}
